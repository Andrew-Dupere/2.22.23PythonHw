{
 "cells": [
  {
   "cell_type": "markdown",
   "metadata": {},
   "source": [
    "# Functions"
   ]
  },
  {
   "cell_type": "markdown",
   "metadata": {},
   "source": [
    "#### Warm up"
   ]
  },
  {
   "cell_type": "code",
   "execution_count": 1,
   "metadata": {},
   "outputs": [
    {
     "name": "stdout",
     "output_type": "stream",
     "text": [
      "['The Beatles', 'The Rolling Stones', 'The Eagles', 'The Temptations']\n"
     ]
    }
   ],
   "source": [
    "bands = ['  thE beATles   ', 'tHe RoLLing sTones..', '.,tHe eagles', 'the tEMptationS  ']\n",
    "newbands = [items.strip().title().strip('..').strip(',') for items in bands]\n",
    "\n",
    "print(newbands)\n"
   ]
  },
  {
   "cell_type": "code",
   "execution_count": null,
   "metadata": {},
   "outputs": [],
   "source": [
    "# Output: ['The Beatles', 'The Rolling Stones', etc]"
   ]
  },
  {
   "cell_type": "code",
   "execution_count": 2,
   "metadata": {},
   "outputs": [
    {
     "name": "stdout",
     "output_type": "stream",
     "text": [
      "['The Who', 'The Doors', 'The Band', 'The Kinks']\n"
     ]
    }
   ],
   "source": [
    "bands2 = [' The whO  ', '  .   , tHE dOORS  ', ' the bAnd   ', '...,  THE kINks    ']\n",
    "\n",
    "bands2 = [' The whO  ', '  .   , tHE dOORS  ', ' the bAnd   ', '...,  THE kINks    ']\n",
    "\n",
    "newbands2 = [items.title().strip().strip('..').strip(',').strip(' , ') for items in bands2]\n",
    "\n",
    "print(newbands2)\n"
   ]
  },
  {
   "cell_type": "markdown",
   "metadata": {},
   "source": [
    "## Functions"
   ]
  },
  {
   "cell_type": "markdown",
   "metadata": {},
   "source": [
    "##### User-Defined vs. Built-In Function"
   ]
  },
  {
   "cell_type": "code",
   "execution_count": 3,
   "metadata": {},
   "outputs": [],
   "source": [
    "# Built-in functions\n",
    "\n",
    "def say_hello():\n",
    "    print('Hello')\n",
    "\n",
    "    \n"
   ]
  },
  {
   "cell_type": "code",
   "execution_count": null,
   "metadata": {},
   "outputs": [],
   "source": [
    "# User Defined Function\n",
    "# Syntax: def function_name():\n",
    "#             <CODE TO EXECUTE WHEN CALLED>\n",
    "\n",
    "# Creating a function\n"
   ]
  },
  {
   "cell_type": "code",
   "execution_count": null,
   "metadata": {},
   "outputs": [],
   "source": []
  },
  {
   "cell_type": "code",
   "execution_count": null,
   "metadata": {},
   "outputs": [],
   "source": [
    "# Executing a function\n",
    "# Syntax: function_name()\n"
   ]
  },
  {
   "cell_type": "markdown",
   "metadata": {},
   "source": [
    "##### Accepting Parameters"
   ]
  },
  {
   "cell_type": "code",
   "execution_count": 5,
   "metadata": {},
   "outputs": [
    {
     "name": "stdout",
     "output_type": "stream",
     "text": [
      "Hello Andrew Dupere\n"
     ]
    }
   ],
   "source": [
    "def say_hello_again(first,last):\n",
    "    print(f'Hello {first} {last}' )\n",
    "    \n",
    "    \n",
    "say_hello_again('Andrew','Dupere')\n"
   ]
  },
  {
   "cell_type": "markdown",
   "metadata": {},
   "source": [
    "##### Passing in variables as parameters"
   ]
  },
  {
   "cell_type": "code",
   "execution_count": 7,
   "metadata": {},
   "outputs": [
    {
     "name": "stdout",
     "output_type": "stream",
     "text": [
      "\n",
      "multi quoted line allows you to \n",
      "write in multiple lines\n",
      "without adding special chars\n",
      "\n"
     ]
    }
   ],
   "source": [
    "print(\"\"\"\n",
    "multi quoted line allows you to \n",
    "write in multiple lines\n",
    "without adding special chars\n",
    "\"\"\")"
   ]
  },
  {
   "cell_type": "code",
   "execution_count": 9,
   "metadata": {},
   "outputs": [],
   "source": [
    "def create_mailer(first,last,address):\n",
    "    print(f\"\"\"\n",
    "    {first.title()} {last.title()}\n",
    "    {address.title()}\n",
    "    \n",
    "    \"\"\")"
   ]
  },
  {
   "cell_type": "code",
   "execution_count": 10,
   "metadata": {},
   "outputs": [
    {
     "name": "stdout",
     "output_type": "stream",
     "text": [
      "FirstAndrew\n",
      "LastDupere\n",
      "Address69 street\n",
      "\n",
      "    Andrew Dupere\n",
      "    69 Street\n",
      "    \n",
      "    \n"
     ]
    }
   ],
   "source": [
    "first = input('First')\n",
    "last = input('Last')\n",
    "address = input('Address')\n",
    "\n",
    "create_mailer(first,last,address)"
   ]
  },
  {
   "cell_type": "markdown",
   "metadata": {},
   "source": [
    "##### Keyword Arguments"
   ]
  },
  {
   "cell_type": "code",
   "execution_count": 12,
   "metadata": {},
   "outputs": [],
   "source": [
    "def makePayment(total,paid,account):\n",
    "    newtotal = total-paid\n",
    "    print(f'you paid ${paid} to {account}')\n",
    "    print(f'new balance {newtotal}')"
   ]
  },
  {
   "cell_type": "code",
   "execution_count": 14,
   "metadata": {},
   "outputs": [
    {
     "name": "stdout",
     "output_type": "stream",
     "text": [
      "you paid $234 to 500\n",
      "new balance -134\n",
      "you paid $123 to 1312\n",
      "new balance 377\n"
     ]
    }
   ],
   "source": [
    "makePayment(100,234,500)\n",
    "makePayment(paid = 123, total = 500, account = 1312)\n",
    "\n",
    "#when variables are defined, order does not matter in the function"
   ]
  },
  {
   "cell_type": "markdown",
   "metadata": {},
   "source": [
    "##### Default Parameters"
   ]
  },
  {
   "cell_type": "code",
   "execution_count": 19,
   "metadata": {
    "scrolled": true
   },
   "outputs": [],
   "source": [
    "#notice the toppings are default paramters that defautl to true or false \n",
    "\n",
    "\n",
    "def burger(name, cheese = True, lettuce = True, onions=''):\n",
    "    price = 4.50\n",
    "    receipt = f\"thank you {name} \\n\"\n",
    "    receipt += \"1 hamburger\\n\"\n",
    "    if cheese:\n",
    "        receipt += \"\\twith cheese\\n\"\n",
    "    if lettuce:\n",
    "        receipt += \"\\twith lettuce\\n\"\n",
    "    if onions:\n",
    "        receipt += f\"\\twith {onions} onions\\n\"\n",
    "    receipt += f\"Total: ${price:.2f}\"\n",
    "    print(receipt)"
   ]
  },
  {
   "cell_type": "code",
   "execution_count": 18,
   "metadata": {},
   "outputs": [
    {
     "name": "stdout",
     "output_type": "stream",
     "text": [
      "thank you Andrew \n",
      "1 hamburger\n",
      "\twith cheese\n",
      "\twith lettuce\n",
      "Total: $4.50\n"
     ]
    }
   ],
   "source": [
    "burger('Andrew')"
   ]
  },
  {
   "cell_type": "code",
   "execution_count": 20,
   "metadata": {},
   "outputs": [
    {
     "name": "stdout",
     "output_type": "stream",
     "text": [
      "thank you Andrew \n",
      "1 hamburger\n",
      "\twith cheese\n",
      "\twith lettuce\n",
      "\twith fried onions\n",
      "Total: $4.50\n"
     ]
    }
   ],
   "source": [
    "burger('Andrew',True,True,'fried')"
   ]
  },
  {
   "cell_type": "code",
   "execution_count": null,
   "metadata": {},
   "outputs": [],
   "source": []
  },
  {
   "cell_type": "code",
   "execution_count": null,
   "metadata": {},
   "outputs": [],
   "source": []
  },
  {
   "cell_type": "markdown",
   "metadata": {},
   "source": [
    "##### \\*args and **kwargs"
   ]
  },
  {
   "cell_type": "code",
   "execution_count": 26,
   "metadata": {},
   "outputs": [],
   "source": [
    "#the star allows you to take unlimited arguments\n",
    "#defaults must come after\n",
    "\n",
    "def myfunction(*args):\n",
    "    print('arg1',args)\n",
    "    print('args', args)\n",
    "    print(type(args))"
   ]
  },
  {
   "cell_type": "code",
   "execution_count": 27,
   "metadata": {
    "scrolled": true
   },
   "outputs": [
    {
     "name": "stdout",
     "output_type": "stream",
     "text": [
      "arg1 ('a', 'b', 'c')\n",
      "args ('a', 'b', 'c')\n",
      "<class 'tuple'>\n"
     ]
    }
   ],
   "source": [
    "myfunction('a','b','c')"
   ]
  },
  {
   "cell_type": "code",
   "execution_count": 28,
   "metadata": {},
   "outputs": [],
   "source": [
    "def my_max(arg1, arg2, *args):\n",
    "    current_max = arg1 if arg1 > arg2 else arg2\n",
    "    print(args)\n",
    "    if args:\n",
    "        for num in args:\n",
    "            if num > current_max:\n",
    "                current_max = num\n",
    "    return(current_max)"
   ]
  },
  {
   "cell_type": "code",
   "execution_count": 30,
   "metadata": {},
   "outputs": [
    {
     "name": "stdout",
     "output_type": "stream",
     "text": [
      "(435345, 234234, 6, 54, 23, 234)\n"
     ]
    },
    {
     "data": {
      "text/plain": [
       "6346364"
      ]
     },
     "execution_count": 30,
     "metadata": {},
     "output_type": "execute_result"
    }
   ],
   "source": [
    "my_max(123123,6346364,435345,234234,6,54,23,234)"
   ]
  },
  {
   "cell_type": "code",
   "execution_count": 37,
   "metadata": {},
   "outputs": [
    {
     "name": "stdout",
     "output_type": "stream",
     "text": [
      "arg1 a\n",
      "args ('b', 'c', 'd', 'f', 'g')\n",
      "kwargs: {'key': 'val', 'num': 10}\n",
      "<class 'dict'>\n",
      "<class 'tuple'>\n"
     ]
    }
   ],
   "source": [
    "def myfunction(arg1,*args,**kwargs):\n",
    "    print('arg1',arg1)\n",
    "    print('args', args)\n",
    "    print('kwargs:', kwargs)\n",
    "    print(type(kwargs))\n",
    "    print(type(args))\n",
    "    \n",
    "myfunction('a','b','c','d', 'f','g', key='val', num = 10)"
   ]
  },
  {
   "cell_type": "markdown",
   "metadata": {},
   "source": [
    "#### In Class Exercise 1"
   ]
  },
  {
   "cell_type": "markdown",
   "metadata": {},
   "source": [
    "Create a function that takes in a color, make, and model and formats it into a string.<br>\n",
    "Then loop over the cars list and apply the function to each element.<br>\n",
    "Expected Output:<br>\n",
    "<code>Blue Toyota Tundra\n",
    "Green Chevy Silverado\n",
    "Pink Ford F-150</code>\n"
   ]
  },
  {
   "cell_type": "code",
   "execution_count": 59,
   "metadata": {},
   "outputs": [
    {
     "name": "stdout",
     "output_type": "stream",
     "text": [
      "blue toyota tundra\n",
      "green chevy silverado\n",
      "pink ford f-150\n",
      "red ford mustang\n",
      "yellow toyota prius\n"
     ]
    }
   ],
   "source": [
    "cars_list = [\n",
    "    ('blue', 'toyota', 'tundra'), \n",
    "    ('green', 'chevy', 'silverado'), \n",
    "    ('pink', 'ford', 'f-150'), \n",
    "    ('red', 'ford', 'mustang'),\n",
    "    ('yellow', 'toyota', 'prius')\n",
    "]\n",
    "\n",
    "def cars(color,make,model):\n",
    "    print(f'{color} {make} {model}')\n",
    "    \n",
    "# for item in cars_list:\n",
    "#     print(item)\n",
    "\n",
    "for i in range(0,len(cars_list)):\n",
    "    cars(cars_list[i][0],cars_list[i][1],cars_list[i][2])\n",
    "\n",
    "    "
   ]
  },
  {
   "cell_type": "code",
   "execution_count": 63,
   "metadata": {},
   "outputs": [
    {
     "name": "stdout",
     "output_type": "stream",
     "text": [
      "blue toyota tundra\n",
      "green chevy silverado\n",
      "pink ford f-150\n",
      "red ford mustang\n",
      "yellow toyota prius\n"
     ]
    }
   ],
   "source": [
    "def vehicle_info(color,make,model):\n",
    "    print(f'{color} {make} {model}')\n",
    "\n",
    "for item in cars_list:\n",
    "    print(vehicle_info(*item))"
   ]
  },
  {
   "cell_type": "code",
   "execution_count": 67,
   "metadata": {},
   "outputs": [
    {
     "name": "stdout",
     "output_type": "stream",
     "text": [
      "blue toyota tundra\n",
      "green chevy silverado\n",
      "pink ford f-150\n",
      "red ford mustang\n",
      "yellow toyota prius\n"
     ]
    }
   ],
   "source": [
    "for col, mak, mod in cars_list:\n",
    "    cars(col,mak,mod)"
   ]
  },
  {
   "cell_type": "code",
   "execution_count": 66,
   "metadata": {},
   "outputs": [
    {
     "name": "stdout",
     "output_type": "stream",
     "text": [
      "blue toyota tundra\n",
      "green chevy silverado\n",
      "pink ford f-150\n",
      "red ford mustang\n",
      "yellow toyota prius\n"
     ]
    }
   ],
   "source": [
    "for item in cars_list:\n",
    "    cars(*item)"
   ]
  },
  {
   "cell_type": "code",
   "execution_count": null,
   "metadata": {},
   "outputs": [],
   "source": []
  },
  {
   "cell_type": "code",
   "execution_count": null,
   "metadata": {},
   "outputs": [],
   "source": []
  },
  {
   "cell_type": "code",
   "execution_count": null,
   "metadata": {},
   "outputs": [],
   "source": []
  },
  {
   "cell_type": "markdown",
   "metadata": {},
   "source": [
    "## Scope <br>\n",
    "<p>Scope refers to the ability to access variables, different types of scope include:<br>a) Global<br>b) Function (local)<br>c) Class (local)</p>"
   ]
  },
  {
   "cell_type": "code",
   "execution_count": null,
   "metadata": {},
   "outputs": [],
   "source": []
  },
  {
   "cell_type": "code",
   "execution_count": null,
   "metadata": {},
   "outputs": [],
   "source": []
  },
  {
   "cell_type": "code",
   "execution_count": null,
   "metadata": {},
   "outputs": [],
   "source": []
  },
  {
   "cell_type": "markdown",
   "metadata": {},
   "source": [
    "##### Returning Values"
   ]
  },
  {
   "cell_type": "code",
   "execution_count": null,
   "metadata": {},
   "outputs": [],
   "source": [
    "# Mathematical Function - y = f(x)\n",
    "# Where f is the function, x is the input(s), and y is the dependent variable (or the return variable)\n"
   ]
  },
  {
   "cell_type": "code",
   "execution_count": 72,
   "metadata": {},
   "outputs": [
    {
     "name": "stdout",
     "output_type": "stream",
     "text": [
      "10\n"
     ]
    }
   ],
   "source": [
    "def f(x):\n",
    "    return 2*x\n",
    "\n",
    "y = f(5)\n",
    "\n",
    "print(y)"
   ]
  },
  {
   "cell_type": "code",
   "execution_count": 73,
   "metadata": {},
   "outputs": [
    {
     "name": "stdout",
     "output_type": "stream",
     "text": [
      "20 400\n"
     ]
    }
   ],
   "source": [
    "z = f(10)\n",
    "print(z,z**2)"
   ]
  },
  {
   "cell_type": "code",
   "execution_count": null,
   "metadata": {
    "scrolled": true
   },
   "outputs": [],
   "source": [
    "# Return will also immediately terminate the function\n"
   ]
  },
  {
   "cell_type": "code",
   "execution_count": 75,
   "metadata": {},
   "outputs": [
    {
     "name": "stdout",
     "output_type": "stream",
     "text": [
      "0\n"
     ]
    }
   ],
   "source": [
    "def earlyreturn(n):\n",
    "    for i in range(n):\n",
    "        return i\n",
    "    print('still in function')\n",
    "x = earlyreturn(123142355)\n",
    "\n",
    "print(x)"
   ]
  },
  {
   "cell_type": "markdown",
   "metadata": {},
   "source": [
    "#### Multiple returns in a function"
   ]
  },
  {
   "cell_type": "code",
   "execution_count": 76,
   "metadata": {},
   "outputs": [
    {
     "data": {
      "text/plain": [
       "'8 is at index 6'"
      ]
     },
     "execution_count": 76,
     "metadata": {},
     "output_type": "execute_result"
    }
   ],
   "source": [
    "def linearsearch(searchlist,target):\n",
    "    for i in range(len(searchlist)):\n",
    "        if searchlist[i] == target:\n",
    "            return f\"{target} is at index {i}\"\n",
    "    return -1\n",
    "\n",
    "linearsearch([2,3,4,5,6,7,8,8,7], 8)"
   ]
  },
  {
   "cell_type": "code",
   "execution_count": 78,
   "metadata": {},
   "outputs": [
    {
     "data": {
      "text/plain": [
       "'8 is at index 4'"
      ]
     },
     "execution_count": 78,
     "metadata": {},
     "output_type": "execute_result"
    }
   ],
   "source": [
    "def linearsearch(searchlist,target):\n",
    "    for index, value in enumerate(searchlist):\n",
    "        if value == target:\n",
    "            return f\"{target} is at index {i}\"\n",
    "    return -1\n",
    "linearsearch([2,3,4,5,6,7,8,8,7], 8)"
   ]
  },
  {
   "cell_type": "markdown",
   "metadata": {},
   "source": [
    "##### Difference between `return` and `print`"
   ]
  },
  {
   "cell_type": "code",
   "execution_count": 79,
   "metadata": {},
   "outputs": [],
   "source": [
    "def create_headline_print(message):\n",
    "    print(message.strip().title() + '!')\n",
    "    \n",
    "def create_headline_return(message):\n",
    "    return message.strip().title() + '!'"
   ]
  },
  {
   "cell_type": "code",
   "execution_count": 83,
   "metadata": {},
   "outputs": [
    {
     "name": "stdout",
     "output_type": "stream",
     "text": [
      "\n",
      "    Super Bowl Sunday! by Andrew Dupere\n",
      "    super bowl was great\n",
      "    \n"
     ]
    }
   ],
   "source": [
    "def publish(headline,author,body):\n",
    "    cleanheadline = create_headline_return(headline)\n",
    "    print(f\"\"\"\n",
    "    {cleanheadline} by {author}\n",
    "    {body}\n",
    "    \"\"\")\n",
    "publish('         supEr Bowl Sunday', 'Andrew Dupere', 'super bowl was great')"
   ]
  },
  {
   "cell_type": "code",
   "execution_count": null,
   "metadata": {},
   "outputs": [],
   "source": []
  },
  {
   "cell_type": "markdown",
   "metadata": {},
   "source": [
    "#### Functions with Lists"
   ]
  },
  {
   "cell_type": "code",
   "execution_count": null,
   "metadata": {},
   "outputs": [],
   "source": [
    "bands = ['  thE beATles   ', 'tHe RoLLing sTones..', '.,tHe eagles', 'the tEMptationS  ']\n",
    "bands2 = [' The whO  ', '  .   , tHE dOORS  ', ' the bAnd   ', '...,  THE kINks    ']\n"
   ]
  },
  {
   "cell_type": "code",
   "execution_count": 85,
   "metadata": {},
   "outputs": [],
   "source": [
    "def cleanbands(messybands):\n",
    "    cleaned = [band.strip(' .,').title() for band in messybands]\n",
    "    return cleaned"
   ]
  },
  {
   "cell_type": "code",
   "execution_count": 86,
   "metadata": {},
   "outputs": [
    {
     "name": "stdout",
     "output_type": "stream",
     "text": [
      "['The Beatles', 'The Rolling Stones', 'The Eagles', 'The Temptations']\n"
     ]
    }
   ],
   "source": [
    "print(cleanbands(bands))"
   ]
  },
  {
   "cell_type": "code",
   "execution_count": 87,
   "metadata": {},
   "outputs": [
    {
     "name": "stdout",
     "output_type": "stream",
     "text": [
      "['The Who', 'The Doors', 'The Band', 'The Kinks']\n"
     ]
    }
   ],
   "source": [
    "print(cleanbands(bands2))"
   ]
  },
  {
   "cell_type": "markdown",
   "metadata": {},
   "source": [
    "#### In-Class Exercise 2"
   ]
  },
  {
   "cell_type": "markdown",
   "metadata": {},
   "source": [
    "Create a function that takes in the list of tuples ('city', 'country') and a country name and returns a list of the cities in that country"
   ]
  },
  {
   "cell_type": "code",
   "execution_count": 98,
   "metadata": {},
   "outputs": [],
   "source": [
    "cities = [\n",
    "    (\"London\", \"England\"), \n",
    "    (\"Manchester\", \"England\"), \n",
    "    (\"Barcelona\", \"Spain\"), \n",
    "    (\"Madrid\", \"Spain\"), \n",
    "    (\"Rome\", \"Italy\"), \n",
    "    (\"Florence\", \"Italy\")\n",
    "]\n"
   ]
  },
  {
   "cell_type": "code",
   "execution_count": 116,
   "metadata": {},
   "outputs": [
    {
     "name": "stdout",
     "output_type": "stream",
     "text": [
      "['Rome', 'Florence'] Italy\n"
     ]
    }
   ],
   "source": [
    "\n",
    "\n",
    "def cities_in_countries(list_of_tups, country_name):\n",
    "    result = []\n",
    "    for city,country in (list_of_tups):\n",
    "        if country == country_name:\n",
    "            result.append(city)\n",
    "    print(result, f'{country_name}')\n",
    "\n",
    "\n",
    "\n",
    "cities_in_countries(cities,'Italy')\n",
    "\n",
    "#print(cities, country_name)\n",
    "\n",
    "\n",
    "#cities_in_countries(cities,'Italy')  ['rome','florence']\n"
   ]
  },
  {
   "cell_type": "code",
   "execution_count": 119,
   "metadata": {},
   "outputs": [],
   "source": [
    "def citiesinCountries(listoftups,countryname):\n",
    "    \n",
    "    cities = []\n",
    "    for items in listoftups:\n",
    "        city = items[0]\n",
    "        country = items[1]\n",
    "        if countryname == country:\n",
    "            cities.append(city)\n",
    "    print(cities,f'{countryname}')"
   ]
  },
  {
   "cell_type": "code",
   "execution_count": 120,
   "metadata": {},
   "outputs": [
    {
     "name": "stdout",
     "output_type": "stream",
     "text": [
      "['Rome', 'Florence'] Italy\n"
     ]
    }
   ],
   "source": [
    "citiesinCountries(cities,'Italy')"
   ]
  },
  {
   "cell_type": "markdown",
   "metadata": {},
   "source": [
    "#### Docstrings"
   ]
  },
  {
   "cell_type": "code",
   "execution_count": 122,
   "metadata": {},
   "outputs": [
    {
     "name": "stdout",
     "output_type": "stream",
     "text": [
      "Help on function addnums in module __main__:\n",
      "\n",
      "addnums(num1, num2)\n",
      "    addnums takes in two number types (int or float) and will return\n",
      "    the two of them added together\n",
      "\n"
     ]
    }
   ],
   "source": [
    "def addnums(num1,num2):\n",
    "    \"\"\"\n",
    "    addnums takes in two number types (int or float) and will return\n",
    "    the two of them added together\n",
    "    \n",
    "    \"\"\"\n",
    "    \n",
    "\n",
    "    return num1 + num2\n",
    "\n",
    "help(addnums)"
   ]
  },
  {
   "cell_type": "code",
   "execution_count": null,
   "metadata": {},
   "outputs": [],
   "source": []
  },
  {
   "cell_type": "code",
   "execution_count": null,
   "metadata": {},
   "outputs": [],
   "source": []
  },
  {
   "cell_type": "markdown",
   "metadata": {},
   "source": [
    "#### Whiteboard Approach"
   ]
  },
  {
   "cell_type": "markdown",
   "metadata": {},
   "source": [
    "1. What are the input(s)?\n",
    "2. What are the output(s)?\n",
    "3. Consider constraints and edge cases\n",
    "4. Write out steps logically (No python)\n",
    "5. Pseudocode\n",
    "6. Code"
   ]
  },
  {
   "cell_type": "markdown",
   "metadata": {},
   "source": [
    "#### Whiteboard Example"
   ]
  },
  {
   "cell_type": "markdown",
   "metadata": {},
   "source": [
    "Find Even numbers<br>\n",
    "Create a function that, given a list as a parameter, finds the even numbers <br>\n",
    "inside the list. The function should then return a list.<br>\n",
    "Bonus: Use a list comprehension to find your solution<br>\n",
    "Example:<br>\n",
    "Input: [2, 7, 10, 11, 12]<br>\n",
    "Output: [2, 10, 12]<br>"
   ]
  },
  {
   "cell_type": "code",
   "execution_count": null,
   "metadata": {},
   "outputs": [],
   "source": []
  },
  {
   "cell_type": "code",
   "execution_count": 123,
   "metadata": {},
   "outputs": [],
   "source": [
    "datstring = \"123 Real Street, Apt. 2, Springfield, OR 43498\""
   ]
  },
  {
   "cell_type": "code",
   "execution_count": 129,
   "metadata": {},
   "outputs": [],
   "source": [
    "numlist = []\n",
    "for num in range(len(datstring)):\n",
    "    if datstring[num].isdigit():\n",
    "        numlist.append(datstring[num])"
   ]
  },
  {
   "cell_type": "code",
   "execution_count": 135,
   "metadata": {},
   "outputs": [],
   "source": [
    "numlist\n",
    "theString = \"123 Real Street, Apt. 2, Springfield, OR 43498\"\n",
    "\n",
    "numlist = [theString[num] for num in range(len(theString)) if theString[num].isdigit()]"
   ]
  },
  {
   "cell_type": "code",
   "execution_count": 136,
   "metadata": {},
   "outputs": [
    {
     "data": {
      "text/plain": [
       "['1', '2', '3', '2', '4', '3', '4', '9', '8']"
      ]
     },
     "execution_count": 136,
     "metadata": {},
     "output_type": "execute_result"
    }
   ],
   "source": [
    "numlist\n"
   ]
  },
  {
   "cell_type": "markdown",
   "metadata": {},
   "source": [
    "Given a string digits, return a string of the digits + 1\n",
    "\n",
    "Ex. 1\n",
    "digits = '123'\n",
    "Expected Output: '124'"
   ]
  },
  {
   "cell_type": "code",
   "execution_count": 140,
   "metadata": {},
   "outputs": [
    {
     "name": "stdout",
     "output_type": "stream",
     "text": [
      "100\n"
     ]
    },
    {
     "data": {
      "text/plain": [
       "NoneType"
      ]
     },
     "execution_count": 140,
     "metadata": {},
     "output_type": "execute_result"
    }
   ],
   "source": [
    "digiString = '99'\n",
    "\n",
    "def plusOne(digiString):\n",
    "    newString = int(digiString)+1\n",
    "    \n",
    "    print(str(newString))\n",
    "\n",
    "\n"
   ]
  },
  {
   "cell_type": "code",
   "execution_count": null,
   "metadata": {},
   "outputs": [],
   "source": []
  }
 ],
 "metadata": {
  "kernelspec": {
   "display_name": "Python 3 (ipykernel)",
   "language": "python",
   "name": "python3"
  },
  "language_info": {
   "codemirror_mode": {
    "name": "ipython",
    "version": 3
   },
   "file_extension": ".py",
   "mimetype": "text/x-python",
   "name": "python",
   "nbconvert_exporter": "python",
   "pygments_lexer": "ipython3",
   "version": "3.9.13"
  }
 },
 "nbformat": 4,
 "nbformat_minor": 2
}
